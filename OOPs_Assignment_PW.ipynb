{
  "nbformat": 4,
  "nbformat_minor": 0,
  "metadata": {
    "colab": {
      "provenance": []
    },
    "kernelspec": {
      "name": "python3",
      "display_name": "Python 3"
    },
    "language_info": {
      "name": "python"
    }
  },
  "cells": [
    {
      "cell_type": "markdown",
      "source": [
        "##Theory Questions\n"
      ],
      "metadata": {
        "id": "1r2CXue3R90d"
      }
    },
    {
      "cell_type": "markdown",
      "source": [
        "1. What is Object -Oriented Programming(OOP)?\n",
        "\n",
        "Ans.  OOP is a programming language paradigm or style that organize software design around data, or objrcts,rather than functions and logic. In OOP ,objects are instances of classes, which are blueprints for creating objects.\n",
        "\n",
        "Here are some key concepts in OOP:\n",
        "\n",
        "1. **Class**: A blueprint or template for cretaing objects. It defines the properties and methods that the objects created from the class will have.\n",
        "\n",
        "2. **Object**:An instance of a class. It contains data and methods that operate on that data.\n",
        "\n",
        "3. **Encapsulation**: The concept of bundling the data and the methods that operate on the data into a single unit or class. It also refers to restricting access to some of the object's components to prevent unintended interface and misuse.\n",
        "\n",
        "4. **Inheritance**: A way to create a new class by using an existing class. The new class,called the child class, inherits properties and methods from the parent class. Inheritance allows for code reusability and creating  a hierarchical relationship between classes.\n",
        "\n",
        "5. **Polymorphism**: The ability of  a method, function, or object to take on many forms. In OOP ,this typically means that diffrent classes can define the same method in thier own way, and correct method will be called based on the object's type.\n",
        "\n",
        "6. **Abstraction**: Hiding the complex implementation details of an object and exposing only the necessary features. This heps in simplifying interactions with objects and focusing on high-level functionality."
      ],
      "metadata": {
        "id": "3t1nhAwISCIf"
      }
    },
    {
      "cell_type": "markdown",
      "source": [
        "2. What is a class in OOP?\n",
        "\n",
        "Ans. In OOP , a **class ** is a blue-print or template for creating **objects.** It defines the attributes and methods that objects cretaed from yhe class will have. A class acts as a structure that describes the common properties and behaviours that its object will share.\n",
        "\n",
        "**Key Points About a Class**\n",
        "\n",
        "1. **Attributes:** These are the data members or properties of the class. They represent the state or characteristics of the objects created from the class.\n",
        "\n",
        "2. **Methods:**These are the functions or behaviors that define what the class and its objects can do.\n",
        "\n",
        "3. **Constructor:**  A special method called the constuctor is used to initialize objects of the class. It sets the initial state  of the object when it is created.\n",
        "\n",
        "4. **Access Modifiers**: Classes can control the visibility of their attributes and methods using access modifiers like **public,private and protected**. This allows internal state of an object and control how it is accessed or modified."
      ],
      "metadata": {
        "id": "SR3Cq1wSUv00"
      }
    },
    {
      "cell_type": "markdown",
      "source": [
        "3. What is an object in OOP?\n",
        "\n",
        "Ans. In OOP , an object is an **instance of a class**. It represenrs a specific, concrete entity that is created based on the blueprint provided by the class. Each object has its own **attributes(data) and methods** that are defined by the class, but the values of the attributes can be different for each object.\n",
        "\n",
        "**Key Characteristics of an Object:**\n",
        "\n",
        "1. **State(Attributes):** The data or properties that describe the object.\n",
        "\n",
        "2. **Behavior(Methods):**The actions or operations that the object can perform, which are defined by methods of its class.\n",
        "\n",
        "3. **Identity:**Each object has a unique identity, even if two objects have the same attributes. They can distinguish based on their memory location or reference."
      ],
      "metadata": {
        "id": "p8WrkeI8WySc"
      }
    },
    {
      "cell_type": "markdown",
      "source": [
        "4. What is the difference between abstraction and encapsulation?\n",
        "\n",
        "Ans.  Key differences:\n",
        "\n",
        "1. **Focus**:\n",
        "* **Abstraction** focuses on hiding the complex details and showing only the necessary features.\n",
        "* **Encapsulation** focuses on hiding the internal state of object and providing controlled access to it.\n",
        "\n",
        "2. **What is hidden**\n",
        "* **Abstraction** hides rhe complexity of the implementation.\n",
        "* **Encapsulation** hides the **internal state** of the objects.\n",
        "\n",
        "3. **Example**\n",
        "* **Abstraction:** A TV remote has buttons like \"Power\" and \"volume:, but you don;t know how the internal mechanisms work.\n",
        "* **Encapsulation**: The TV's remote internal workings are hidden , you can only interact with it via specific buttons(getter/setter methods)."
      ],
      "metadata": {
        "id": "BnzW041vYWUW"
      }
    },
    {
      "cell_type": "markdown",
      "source": [
        "5. What are dunder methods in Python?\n",
        "\n",
        "Ans. In Python, **dunder methods** , also known as **magic methods or special method**, are methods that have double underscores at the beginning and end of their names. These methods allow you to define and customize the behaviour of objects in different contexts, such as arithmetic operations, object creation and more.\n",
        "\n",
        "**Example**: __init__, __str__, __add__ etc\n"
      ],
      "metadata": {
        "id": "JSk_Q5XPlIqx"
      }
    },
    {
      "cell_type": "code",
      "source": [
        "class Person:\n",
        "  def __init__(self,name,age):\n",
        "    self.name = name\n",
        "    self.age = age\n",
        "\n",
        "  def __str__(self):\n",
        "    return f\"{self.name} is {self.age} years old\""
      ],
      "metadata": {
        "id": "x-uamezfmFfH"
      },
      "execution_count": 35,
      "outputs": []
    },
    {
      "cell_type": "markdown",
      "source": [
        "6. Explain the concept of inheritance in OOP.\n",
        "\n",
        "Ans. Inheritance is one of the four fundamental principle of OOP,alonside **encapsulation, abstarction and polymorphism**. It allows a class(the child class or subclass) to inherit properties and behaviors(methods ) from another class(the parent class),enabling code reuse and estabilishing a relationship between different classes.\n",
        "\n",
        "**Key Concepts of Inheritance:**\n",
        "\n",
        "1. Base Class(Parent Class or SuperClass)\n",
        "2. Derived Class(Child Class Or Subclass)\n",
        "3. Is-A Relationship"
      ],
      "metadata": {
        "id": "OabVaqkzlGCr"
      }
    },
    {
      "cell_type": "markdown",
      "source": [
        "7. What is polymorphism in OOP?\n",
        "\n",
        "Ans. The term \"polymorphism\" comes from Greek, meaning \"may shapes\". In the context of OOP ,polymorphism allows objects of different classes to be treated as objects of a common superclass. This enables methods to behave differently based on the object they are acting upon, enhancing flexibilty and scalabilty.\n",
        "\n",
        "Polymorphism allows a single interface to represent different types of objects. The same method or function can operate on objects of different classes, but the behaviour of the method can vary depending on the actual class of the object.\n",
        "\n",
        "Types:\n",
        "\n",
        "1. **Compile-time Polymorphism(Method Overloading):**\n",
        "* Compile time polymorphism happens when multiple methods with the same name exist but with different parameters in the same class.  This is typically reffered to as **method overloading**\n",
        "\n",
        "2. **Runtime Polymorphism(Method Overriding):**\n",
        "* Runtime polymorphism occurs when a subclass provides a specific implementation of  a method that is already defined in its superclass. This is known as **method overriding**. The method that is executes is determined at runtime, based on the object being referenced."
      ],
      "metadata": {
        "id": "As4gokF5ns_3"
      }
    },
    {
      "cell_type": "markdown",
      "source": [
        "8. How is encapsulation achieved in Python?\n",
        "\n",
        "Ans. In Python, Encapsulation is a fundamental concept in OOP that refers to bundling the data and methods that operate on the date into a single unit, known as a class. Encapsulation also involves controlling access to the attributes and methods to prevent direct modification from outside the class, ensuring the integrity of the data.\n",
        "\n",
        "**How encapsulation is achieved in Python**\n",
        "1. **Public Members**\n",
        "* Attributes and methods are **public** by default in Python, meaning they can be accesses and modified directly from outside the class.\n",
        "\n",
        "2. **Private Members**\n",
        "* In Python, you can make attributes and methods **private** by prefixing them with **two underscores(__).** This name mangles the attribute's name, making it harder to access directly from outside the class."
      ],
      "metadata": {
        "id": "75MxnexrqgVD"
      }
    },
    {
      "cell_type": "markdown",
      "source": [
        "9. What is a constructor in Python?\n",
        "\n",
        "Ans. In Python, a **constructor** is a special method used to initailize the attributes of an object when the object is created. The constructor method in Python is called __init__(), and it is automatically called when a new instance of a class is created.\n",
        "\n",
        "**Key Points**\n",
        "\n",
        "1. __init__() Method:\n",
        "* The __init__() method is the constructor in Python.\n",
        "* It is called **automatically** when an object is instantiated from a class.\n",
        "* It allows you to initialize the object's attributes with values when the object is created.\n",
        "* The __init__() method does not return anything; it only initializes the instance variables(attributes).\n",
        "\n",
        "2. **Self Parameter:**\n",
        "* The first parameter of the __init__() method is always **self**. This parameter is a reference to the current instance of the class.\n",
        "\n",
        "3. **Other Parameters:**\n",
        "* Besides **self**, you can define other parameters in the __init__() method to accept values when the object is instantiated."
      ],
      "metadata": {
        "id": "32aRb_JascXD"
      }
    },
    {
      "cell_type": "markdown",
      "source": [
        "10. What are class and static methods in Python?\n",
        "\n",
        "Ans. **Class methods**:\n",
        "* A Class method is a method that is bound to the class rather than the instance . It can be called on the class itself,and it receives the class as the first argument, cinventionally named **cls**. This allows you to access or modify class-level attributes and methods ,rather than instance-level attributes.\n",
        "\n",
        "**Static Methods**:\n",
        "*  A **Static method** is a method that does not take **self or cls** as the first argument. OIot is a method that is bound to the class, but it does not have access to eithrt the instance or the class. Static methods don't modify class state or instance state."
      ],
      "metadata": {
        "id": "ZJrRZtcguvM8"
      }
    },
    {
      "cell_type": "markdown",
      "source": [
        "11. What is method overloading in Python?\n",
        "\n",
        "Ans.Method Overloading in Python refers to the ability to define multiple methods with the same name but different parameters. Unlike some other programming languages (like Java or C++), Python does not support method overloading in the traditional sense. In Python, if you define multiple methods with the same name, the last one defined will override the previous ones.\n",
        "\n",
        "However, Python provides flexibilty through default arguments, variable-length arguments, and keyword arguments, allowing you to mimic method overloading behaviour."
      ],
      "metadata": {
        "id": "Wy8JOeuWS78D"
      }
    },
    {
      "cell_type": "code",
      "source": [
        "class Example:\n",
        "  def greet(self,name=\"Guest\"):\n",
        "    print(f\"Hello,{name}\")\n",
        "\n",
        "obj=Example()\n",
        "\n",
        "obj.greet()"
      ],
      "metadata": {
        "colab": {
          "base_uri": "https://localhost:8080/"
        },
        "id": "M1UNhVnyUVRy",
        "outputId": "4fa7fb0b-f0fa-406e-8a12-6a624ad27467"
      },
      "execution_count": 36,
      "outputs": [
        {
          "output_type": "stream",
          "name": "stdout",
          "text": [
            "Hello,Guest\n"
          ]
        }
      ]
    },
    {
      "cell_type": "markdown",
      "source": [
        "12. What is method overriding in OOP?\n",
        "\n",
        "Ans. Method Overriding in OOP is a feature that allows a subclass to provide a specific implementation of a method that is already defined in its superclass. The method in the subclass \"Overrides\" the method in the superclass. When an instance of the subclass calls the method, the overridden version of the method in the subclass is executed, not the one in the superclass.\n",
        "\n",
        "**Key Points**:\n",
        "\n",
        "1. **Inheritance**: Overriding happens within an inheritance hierarchy. The subclass inherits methods from the superclass but can provide its own implementation of those methods.\n",
        "\n",
        "2. **Same Method Signature**: In method overriding, the method in the subclass must have the same name, return type, and parameters as the methods in the superclass.\n",
        "\n",
        "3. **Polymorphism**: Method overriding is closely related to polymorphism, where the correct method is determined runtime ,based on the object that is calling the method."
      ],
      "metadata": {
        "id": "Xuc1rsqqUoR2"
      }
    },
    {
      "cell_type": "markdown",
      "source": [
        "13. What is a property decorator in Python?\n",
        "\n",
        "Ans.The **@property** decorator in Python is a built-in function that allows you to define a method in a class as a property .This means that you can acces the methods as if it were an attribute, rather than needing to call it as amethod. The **@property** decorator  is useful for encapsulating logic while still aloowing access to an attributr in an object-oriented manner.\n",
        "\n",
        "** How @proprty decorators Work:**\n",
        "\n",
        "The @property decorator turns a method into  a getter, which allows you to access the method like an attribute. This is useful when you need to perform some computation or logic when accessin an attribute but you still want the interface to look like accessing a normal attribute."
      ],
      "metadata": {
        "id": "kTmaGBvgWTQ-"
      }
    },
    {
      "source": [
        "class Circle:\n",
        "    def __init__(self, radius):\n",
        "        self._radius = radius  # Assign to _radius in __init__\n",
        "\n",
        "    @property\n",
        "    def radius(self):\n",
        "        return self._radius\n",
        "\n",
        "    @property\n",
        "    def area(self):\n",
        "        return 3.14 * (self._radius**2)\n",
        "\n",
        "circle = Circle(5)\n",
        "print(circle.radius)"
      ],
      "cell_type": "code",
      "metadata": {
        "colab": {
          "base_uri": "https://localhost:8080/"
        },
        "id": "0Tld81JceVIE",
        "outputId": "e211f870-95c2-447c-82c9-ee3bedd25481"
      },
      "execution_count": 37,
      "outputs": [
        {
          "output_type": "stream",
          "name": "stdout",
          "text": [
            "5\n"
          ]
        }
      ]
    },
    {
      "cell_type": "markdown",
      "source": [
        "14. Why is polymorphism important in OOP?\n",
        "\n",
        "Ans. Polymorphism is important in OOP is in different ways:\n",
        "\n",
        "1. **Flexibility and Reusability:**Polymorphism enables you to write code that can work with objects of different classes withot knowing the exact class of the object. You can write generic code and pass objects of different types, yet the right method or behaviour will be applied based on the object type. This makes your code more flexible and reusable.\n",
        "\n",
        "2. **Code Simplification and Maintainability**: Polymorphism reduces the complexity of code because it allows you to use a common interface to work with different types of objects. Without polymorphism, you would have to write separate code for each type of object. This could quickly become cumbersome as your program grows.\n",
        "\n",
        "3. **Improve Extensibilty**: Polymorphism makes it easier to add new functionality to a system without changing the existing code. Since polymorphism allows for the same interafce to be used for different types, you cab add new subclasses with their own specific behaviour without modifying the code that uses polymorphism."
      ],
      "metadata": {
        "id": "-vEsnfTzea-O"
      }
    },
    {
      "cell_type": "markdown",
      "source": [
        "15. What is an abstract class in Python?\n",
        "\n",
        "Ans. An **abstract class** in Python is a class that cannot be instantiated directly and is meant to be subclassed by other classes,providing a common interface for its subclasses but leaving some methods undefined , which must then be implemented by thr subclasses.\n",
        "\n",
        "Abstract classes are used to define a common interface and to enforce that certain methods are implemented by the subclasses.They are especially useful when you want to define a set of common methods that must be shared by all derived classes but you don't want the base class to be instantiated.\n",
        "\n",
        "**Features**\n",
        "\n",
        "1. **Cannot be instantiated directly**\n",
        "2. **Abstract Methods**\n",
        "3. **Defined with the *abc* module**\n",
        "4. **Enforce Subclassing**"
      ],
      "metadata": {
        "id": "8YYipmfmgcBv"
      }
    },
    {
      "cell_type": "markdown",
      "source": [
        "16. What are advantages of OOP?\n",
        "\n",
        "Ans. Advantages of OOP:\n",
        "1. **Modularity and Reusability**\n",
        "\n",
        "* **Modularity**:OOP organizes code into discrete objects or classes ,each representing a particular concept or entity. These classes can be developed, tested and maintained independently of each other\n",
        "\n",
        "* **Reusabilty**: Once a class is cretaed , it can be reused across different programs or projects,making development more efficient.\n",
        "\n",
        "2. **Encapsulation**\n",
        "\n",
        "* **Encapsulation ** refers to the bundling of data and methods that operate on that data into a single unit. This also helps in hiding the internal details of an object and only exposing necessary functionalities through methods.\n",
        "\n",
        "* **Data Hiding** : By hiding the internal state and providing controlled access through getter and setter methods, OOP helps prevent unauthorized access or modification of object data.\n",
        "\n",
        "3. **Inheritance**\n",
        "\n",
        "* **Inheritance** allows one class to inherit the properties and methods of another class. This reduce code duplication and estabilishes a relationship between different classes.\n",
        "\n",
        "4. **Polymorphism**\n",
        "\n",
        "* **Polymorphism** allows object of different classes to be treated as objects of a common base class. The same method or function can behave differntly based on the object it is operating on, enabling a single interface to be used for different data types.\n",
        "\n",
        "5. **Maintainability**\n",
        "\n",
        "* OOP makes it easier to maintain and update code. changes in one part of the program are less likely to affect other parts because of the modularity and encapsulation principles.\n",
        "\n",
        "* Since the code is organized into classes, it is easier to update and debug specific parts of the system without affecting other parts."
      ],
      "metadata": {
        "id": "TKg4sqMxh-Hp"
      }
    },
    {
      "cell_type": "markdown",
      "source": [
        "17. What is the difference between a class variable and an instance variable?\n",
        "\n",
        "Ans. 1. **Definition**\n",
        "\n",
        "* **Class Varaible:**\n",
        "*  A Class Variable is a variable thta is shared across all instancee of the class.\n",
        "* It is defined within class, but outside of any methods.\n",
        "* It belongs to the class itself, rather than to any specific instance of the class\n",
        "\n",
        "* **Instance Variable**\n",
        "* An **instance variable ** is a variable that is specific to an instance of the class.\n",
        "* It is defined inside methods and is accessed using **self**.\n",
        "* Each object has its own copy of the instance variable.\n",
        "\n",
        "2. **Accessibilty**:\n",
        "\n",
        "* **Class Variable:**\n",
        "* Class variables can be accessed using the class name or through any instance of the class.\n",
        "* They are typically used for values that should be the same for all instances of the class.\n",
        "\n",
        "**Instance Variable:**\n",
        "* Instance Variables are accessed using the object instance.\n",
        "* They are specific to the individual object created from the class.\n",
        "\n",
        "3. **Shared vs Unique**:\n",
        "* **Class Variable**:\n",
        "* Since class cariables are shared among all instances of the class, changing the value of a class variable in one instance will affect all other instances.\n",
        "\n",
        "* **Instance Variables**:\n",
        "* Instance Variable are unique to each object. Changing an instance variable in one object does not affect the instance variables of other objects.\n",
        "\n",
        "4. **Memory Allocation**:\n",
        "* **Class Variable**:\n",
        "* Class variables are stored in memory only once, and that same memory is shared by all instances of the class.\n",
        "* They are typically used for class-wide properties that do not change from one instance to another.\n",
        "\n",
        "* **Instance Variable**:\n",
        "* Instance Variables are stored separately for each instance of the class. Each object has its own copy of the instance variables."
      ],
      "metadata": {
        "id": "ujJ9a340liwq"
      }
    },
    {
      "cell_type": "markdown",
      "source": [
        "18. What is multiple inheritance in Python?\n",
        "\n",
        "Ans. **Multiple Inheritance** in python refers to the ability of a class to inherit attributes and methods from more than one parent class. this allows a child class to inherit functionalty from multiple parent classes, combining the bahviour and characteristics of all the parent classes.\n",
        "\n",
        "**Key Points**\n",
        "1. **Inheritance from More Than One Parent Class**:  A child class can inherit from two or more classes, which is the essence of multiple inheritance.\n",
        "\n",
        "2. **Method Resolution Order**:When multiple classes are inherited , Python follows a MRO to determine the order in which methods are inherited from the parent classes.\n",
        "\n",
        "3. **Super() function**: The Super() function is use to call methods from parent classes in a multiple inheitance scenario. It helps in maintaining the correct method resolution order."
      ],
      "metadata": {
        "id": "IeUPuz2no_Og"
      }
    },
    {
      "cell_type": "markdown",
      "source": [
        "19. Explain the purpose of \"__str__\" and \"__repr__\" methods in Python.\n",
        "\n",
        "Ans. In Python , the __str__ and __repr__ methods are special methods used to define how an object is represented as a string, but they serve different purposes and are used in different contexts. Both methods allows you to define a custom string representation for your objects, but their intended uses and behaviour differ.\n",
        "\n",
        "1. **__str__ Method(For Human Readability)**\n",
        "\n",
        "* **Purpose**: The __str__ method is used to define a \"user-friendly\" or \"informal\" string representation of an object . It is intended to be readable , understandable description of the object when printed or displayed.\n",
        "* **Context**: This method is called by the print() function and the str() built-in function.\n",
        "* **Use Case**: When you want  a nice, readable string representation of the object for end-users or developers when they print the object.\n",
        "\n",
        "2. **__repr__ Method(For Debugging and Development)**\n",
        "\n",
        "* **Purpose**: The __repr__ method is used to define a \"formal\" or \"unambiguous\" string representation of an object. the goal of __repr__ is to provide a string that , if passed to the **eval()** function, would ideally return an object with the same properties\n",
        "* **Context**: This method is called by the **repr()** function is also used when you enter an object in the interactive Python shell.\n",
        "* **Use Case:** When you want a detailed , aprecise string representation of the object, typically for debugging or development purposes."
      ],
      "metadata": {
        "id": "8Qqhek-tt5SS"
      }
    },
    {
      "cell_type": "markdown",
      "source": [
        "20. What is the significance of the \"super()\" function in Python?\n",
        "\n",
        "Ans. The **super()** function in Python is  a built-in function used to call methods from a parent or superclassw in a class hierarchy. It is especially useful in the context of **inheritance**, allowing you top invoke methods from a base class without explicitly naming the base class.\n",
        "\n",
        "**Significance of super()**\n",
        "\n",
        "1. **Method Resolution Order(MRO) Manangement:**\n",
        "\n",
        "* In Pyhton, when multiple classes are involved in inheritance, the method reolution order, detremines the order in which methods are inherited. **super() ** ensures that the method resolution order is correctly followed.\n",
        "* In multiple inheritance, **super()** helps in ensuring that the methods from the parent classes are called in the correct order,as determined by the MRO.\n",
        "\n",
        "2. **Accessing Methods of Parent Classes:**\n",
        "\n",
        "* **super()** allows you to call a method from a superclass, even when it has been overridden in a subclass. This is useful when you want to extend the behavior of a method without completely overriding it.\n",
        "* This is often used in the constructor(__init__)of subclasses to ensure that the initailization of the parent class is also called.\n",
        "\n",
        "3. **Avoiding Explicit Class Names:**\n",
        "\n",
        "* Instead of directly referencing the superclass, super() allows you code to be more flexible and maintainable . By Using super(), you avoid hardcoding the parent class's name, which can make it easier to change the class hierarchy withou modifying the method calls in subclasses.\n",
        "\n",
        "4. **Multiple Inheritance:**\n",
        "\n",
        "* In multiple inheritance scenarios, **super()** helps avoid the problem of calling the same method multple times, ensuring that the metod from each parent class is  called only once in a predictable order."
      ],
      "metadata": {
        "id": "skNdeEB2w46F"
      }
    },
    {
      "cell_type": "markdown",
      "source": [
        "21. What is the significance of the __del__ method in Python?\n",
        "\n",
        "Ans. The __del__ method in Python is a special method used for **destruction or clean-up** of an object before it is deleted. It is part of Python's **garbage collection**  machanism and is called when an object is about to be destroyed, typically when there are no more references to the object.\n",
        "**Purpose of __del__:**\n",
        "The primary purpose of the __del__ method is to allow an object to clean up any resources it is holding, such as ⁉\n",
        "\n",
        "* Closing open files.\n",
        "* Releasing database connections\n",
        "* Releasing network connections\n",
        "* Cleaning up other resources like threads,memory etc.\n",
        "\n",
        "This method is invoked automatically when the object's reference when the object's reference count drops to zero, which means that there are no more references to the object, and it is about to be garbage collected."
      ],
      "metadata": {
        "id": "DPJ4LBFa0WUo"
      }
    },
    {
      "cell_type": "markdown",
      "source": [
        "22. What is the difference between @staticmethod and @classmethod in Python?\n",
        "\n",
        "Ans. 1. **@staticmethod**:\n",
        "\n",
        "*  A **static method** is a method that does not receive the instance (self) or class(cls) as its first argument.\n",
        "* Static methods do not have access to the instance or class itself; they are simply regular functions that belong to the class's namespace.\n",
        "* They are typically used for utility functions that logically belong to the class but do not need to access any instance-specific or class-specific data.\n",
        "\n",
        "2. **@classmethod**:\n",
        "\n",
        "* A **class method** is a method that takes the clas sitself (cls ) as its first argument, rather than an instance(self)\n",
        "* Class methods are used to work with class-level data rather than instance level-data.\n",
        "* They are often used for factory methods or methods taht need to modify the class state.\n"
      ],
      "metadata": {
        "id": "hk4OyYH22YSO"
      }
    },
    {
      "cell_type": "markdown",
      "source": [
        "23. How does polymorphism work in Python with inheritance?\n",
        "\n",
        "Ans. In Python, polymorphism refers to the ability of different classes to be treated as instances of the same class through inheritance, even though they may implement different methods. It allows a single function, method , or operator to work with different types of objects. This is typically achieved using method overriding, where a subclass provide its own implementation of a method that is already defined in its superclass.\n",
        "\n",
        "**How Polymorphism Works in python with Inheritance**:\n",
        "\n",
        "1. **Method Overriding**:\n",
        "\n",
        "* Polymorphism is often implemented by **method overriding**,where a method in the subclass has the same name as one in the parent class, but with different functionality.\n",
        "* When a subclass overrides a method, python will use the version of the method from the subclass instead of the parent class when called on an instance of the subclass.\n",
        "\n",
        "2. **Dynamic Dispatch**:\n",
        "* Pythin uses dynamic dispatch, meaning the method that gets executed is determined at runtime based on the object type. Even if the object is refereced through a variable of the superclass type, the appropriate method from the subclass will be called."
      ],
      "metadata": {
        "id": "hmMUwmLf4LjN"
      }
    },
    {
      "cell_type": "markdown",
      "source": [
        "24. What is method chaining in Python OOP?\n",
        "\n",
        "Ans.**Method Chaining** in Python is a programming technique where multiple methods are called on the same object, one after the other, in a single line of code. This is possible because each method call returns the object itself, enabling subsequent methods calls to be \"chained \" together.\n",
        "In OOP ,method chaining is typically used to modify an object's state incrementally and fluently. This is commonly seen in libraries like **pandas or flask** , where methods return the object itself ,or a new object so you can chain actions together in a readable and concise way."
      ],
      "metadata": {
        "id": "fi5e5rRR6ww1"
      }
    },
    {
      "cell_type": "code",
      "source": [
        "class Car:\n",
        "  def __init__(self,brand,model):\n",
        "    self.brand=brand\n",
        "    self.model=model\n",
        "    self.color=None\n",
        "    self.year=None\n",
        "\n",
        "  def set_color(self,color):\n",
        "    self.color=color\n",
        "    return self\n",
        "\n",
        "  def set_year(self,year):\n",
        "    self.year=year\n",
        "    return self\n",
        "\n",
        "  def display_info(self):\n",
        "    print(f\"{self.year} {self.color} {self.brand} {self.model}\")\n",
        "    return self\n",
        "\n",
        "car=Car(\"Hyundai\",\"Creta\")\n",
        "car.set_color(\"Red\").set_year(2024).display_info()"
      ],
      "metadata": {
        "colab": {
          "base_uri": "https://localhost:8080/"
        },
        "id": "IRtPLbJF8Ry1",
        "outputId": "7dd41bf2-6723-4886-d7e6-b3c59d7c009b"
      },
      "execution_count": 38,
      "outputs": [
        {
          "output_type": "stream",
          "name": "stdout",
          "text": [
            "2024 Red Hyundai Creta\n"
          ]
        },
        {
          "output_type": "execute_result",
          "data": {
            "text/plain": [
              "<__main__.Car at 0x7ba2e18caa10>"
            ]
          },
          "metadata": {},
          "execution_count": 38
        }
      ]
    },
    {
      "cell_type": "markdown",
      "source": [
        "25. What is the purpose of the __call__ method in Python?\n",
        "\n",
        "Ans. In Python , the __call__ method is  aspecial method that allows an instance of a class to be called like a function. When you define this method in a class, you make the objects of that class callabel .This means taht you can use an instance of the class as if it were a function.\n",
        "\n",
        "**Purpose of the __call__ method:\n",
        "\n",
        "* **Make an object callable:** be defining __call__,you allow instance of your class to be invoked as functions. This can make your class behave like a function ,enabling more flexible object-oriented designs.\n",
        "\n",
        "* ** Encapsulate logic in an Object:** it lets you encapsulate specific logic wuthin an object and the call it without needing to explicitly call a method on the object.\n",
        "\n",
        "* **Flexibility**: The __call__ method can take parameters, just like a normal function, allowing objects to behave in versatile ways when called with different arguments.\n"
      ],
      "metadata": {
        "id": "2ZHth-L19Q8c"
      }
    },
    {
      "cell_type": "markdown",
      "source": [
        "##Practical Questions"
      ],
      "metadata": {
        "id": "nm6jo652rReV"
      }
    },
    {
      "cell_type": "markdown",
      "source": [
        "1. Create a parent class Animal with a method speak() that prints a generic message. Create a child class Dog that overrides the speak() method to print \"Bark!\""
      ],
      "metadata": {
        "id": "cunXyC2GrWZB"
      }
    },
    {
      "cell_type": "code",
      "source": [
        "#parent class\n",
        "class Animal:\n",
        "  def speak(self):\n",
        "    print(\"This animal makes sound.\")\n",
        "\n",
        "#child class\n",
        "class Dog(Animal):\n",
        "  def speak(self):\n",
        "    print(\"Bark!\")\n",
        "\n",
        "\n",
        "#calling the speak method\n",
        "animal=Animal()\n",
        "animal.speak()\n"
      ],
      "metadata": {
        "colab": {
          "base_uri": "https://localhost:8080/"
        },
        "id": "Z2V6xPCdr7Io",
        "outputId": "0a593b3b-9867-48d3-80e9-1b7ebb418eb1"
      },
      "execution_count": 39,
      "outputs": [
        {
          "output_type": "stream",
          "name": "stdout",
          "text": [
            "This animal makes sound.\n"
          ]
        }
      ]
    },
    {
      "cell_type": "code",
      "source": [
        "dog=Dog()\n",
        "dog.speak()"
      ],
      "metadata": {
        "colab": {
          "base_uri": "https://localhost:8080/"
        },
        "id": "vylJu70bsh-6",
        "outputId": "2bd2b27b-86cc-4705-84f3-732a94597b21"
      },
      "execution_count": 40,
      "outputs": [
        {
          "output_type": "stream",
          "name": "stdout",
          "text": [
            "Bark!\n"
          ]
        }
      ]
    },
    {
      "cell_type": "markdown",
      "source": [
        "2. Write a program to create an abstract class Shape with a method area(). Derive classes Circle and Rectangle from it and implement the area() method in both."
      ],
      "metadata": {
        "id": "xhXMscZssqgn"
      }
    },
    {
      "source": [
        "from abc import ABC, abstractmethod\n",
        "import math\n",
        "\n",
        "#Abstract class\n",
        "\n",
        "class Shape(ABC):\n",
        "  @abstractmethod\n",
        "  def area(self):\n",
        "    pass\n",
        "\n",
        "#derived class Circle\n",
        "\n",
        "class Circle(Shape):\n",
        "  def __init__(self,radius):\n",
        "    self.radius=radius\n",
        "\n",
        "  #Corrected indentation for area method\n",
        "  def area(self):\n",
        "    return math.pi*self.radius**2\n",
        "\n",
        "#derived class Rectangle\n",
        "\n",
        "class Rectangle(Shape):\n",
        "  def __init__(self,width,height):\n",
        "    self.width=width\n",
        "    self.height=height\n",
        "\n",
        "  def area(self):\n",
        "    return self.width*self.height\n",
        "\n",
        "#calculating area\n",
        "circle=Circle(5)\n",
        "print(f\"Area of circle:{circle.area()}\")\n",
        "\n",
        "rectangle=Rectangle(4,6)\n",
        "print(f\"Area of the rectangle: {rectangle.area}\")"
      ],
      "cell_type": "code",
      "metadata": {
        "colab": {
          "base_uri": "https://localhost:8080/"
        },
        "id": "XK4bRF6Yv2om",
        "outputId": "013046aa-d61f-4758-9617-bab01a9da87b"
      },
      "execution_count": 41,
      "outputs": [
        {
          "output_type": "stream",
          "name": "stdout",
          "text": [
            "Area of circle:78.53981633974483\n",
            "Area of the rectangle: <bound method Rectangle.area of <__main__.Rectangle object at 0x7ba2e1a477d0>>\n"
          ]
        }
      ]
    },
    {
      "cell_type": "markdown",
      "source": [
        "3. Implement a multi-level inheritance scenario where a class Vehicle has an attribute type. Derive a class Car and further derive a class ElectricCar that adds a battery attribute."
      ],
      "metadata": {
        "id": "HGG00IStwRNa"
      }
    },
    {
      "cell_type": "code",
      "source": [
        "class Vehicle:\n",
        "  def __init__(self,type):\n",
        "    self.type=type\n",
        "\n",
        "    def display_vehicle_type(self):\n",
        "      print(f\"Vehicle Type :{self.type}\")\n",
        "\n",
        "class Car(Vehicle):\n",
        "  def __init__(self,type ,model):\n",
        "    super().__init__(type)\n",
        "    self.model=model\n",
        "\n",
        "  def display_car_model(self):\n",
        "    print(f\"Car Model: {self.model}\")\n",
        "\n",
        "class ElectricCar(Car):\n",
        "  def __init__(self, type, model,battery_capacity):\n",
        "    super().__init__(type, model)\n",
        "    self.battery_capacity=battery_capacity\n",
        "\n",
        "\n",
        "  def display_electric_car_details(self):\n",
        "    self.display_vehicle_type()\n",
        "    self.display_car_model()\n",
        "    print(f\"Battery Capacity: {self.battery_capacity} kWh\")\n",
        "\n",
        "#creating an instance of ElectricCar\n",
        "electric_car=ElectricCar(\"Sedan\",\"Tesla Model S\",100)\n"
      ],
      "metadata": {
        "id": "R5abhQxiwoeM"
      },
      "execution_count": 42,
      "outputs": []
    },
    {
      "cell_type": "markdown",
      "source": [
        "4. Demonstrate a polymorphism by creating a base class Bird with a method fly(). Create two derived classes Sparrow and Penguin that overrides the fly() method."
      ],
      "metadata": {
        "id": "B9sUu1rByRkN"
      }
    },
    {
      "cell_type": "code",
      "source": [
        "class Bird:\n",
        "  def fly(self):\n",
        "    print(\"This bird can fly.\")\n",
        "\n",
        "#derived class Sparrow\n",
        "class Sparrow(Bird):\n",
        "  def fly(self):\n",
        "    print(\"The sparrow flies in the sky.\")\n",
        "\n",
        "#derived class Penguin\n",
        "class Penguin(Bird):\n",
        "  def fly(self):\n",
        "    print(\"The penguin cannot fly,but it can swim\")\n",
        "bird=Bird()\n",
        "bird.fly()"
      ],
      "metadata": {
        "colab": {
          "base_uri": "https://localhost:8080/"
        },
        "id": "FX_35AwSyl1M",
        "outputId": "281bf7e8-fbab-4feb-8581-c90849513f39"
      },
      "execution_count": 43,
      "outputs": [
        {
          "output_type": "stream",
          "name": "stdout",
          "text": [
            "This bird can fly.\n"
          ]
        }
      ]
    },
    {
      "cell_type": "code",
      "source": [
        "sparrow=Sparrow()\n",
        "sparrow.fly()"
      ],
      "metadata": {
        "colab": {
          "base_uri": "https://localhost:8080/"
        },
        "id": "yJzGlZxtzgRN",
        "outputId": "20ba0920-aa74-4948-8881-07b138e5baa4"
      },
      "execution_count": 44,
      "outputs": [
        {
          "output_type": "stream",
          "name": "stdout",
          "text": [
            "The sparrow flies in the sky.\n"
          ]
        }
      ]
    },
    {
      "cell_type": "markdown",
      "source": [
        "5. Write a program to demonstrate encapsulation by craeting a class BankAccount with private attributes balance and methods to deposit,withdraw and check balance."
      ],
      "metadata": {
        "id": "Jpczjx85zrpS"
      }
    },
    {
      "source": [
        "class BankAccount:\n",
        "  def __init__(self,initial_balance=0):\n",
        "    self.__balance=initial_balance\n",
        "\n",
        "#method to deposit money into the account\n",
        "  def deposit(self,amount):\n",
        "    if amount>0:\n",
        "      self.__balance+=amount\n",
        "      print(f\"Deposited:{amount}\")\n",
        "    else:\n",
        "      print(\"Deposit amount must be positive.\")\n",
        "\n",
        "#method to withdraw money from the account\n",
        "\n",
        "  def withdraw(self,amount):\n",
        "    if amount>0 and amount<=self.__balance:\n",
        "      self.__balance-=amount\n",
        "      print(f\"Withdrew:{amount}\")\n",
        "    elif amount>self.__balance:\n",
        "      print(\"Insufficient funds\")\n",
        "    else:\n",
        "      print(\"Withdrawal amount must be positive.\")\n",
        "\n",
        "#method to check the balance, indented to be part of the class\n",
        "  def check_balance(self):\n",
        "    return self.__balance\n",
        "\n",
        "#creating an instance of BankAccount\n",
        "account=BankAccount(1000)\n",
        "\n",
        "#check the initial balance\n",
        "print(f\"Initial Balance:{account.check_balance()}\")"
      ],
      "cell_type": "code",
      "metadata": {
        "colab": {
          "base_uri": "https://localhost:8080/"
        },
        "id": "b3IyIZqE9VgV",
        "outputId": "9161f911-1235-49ca-dbc0-0b55564b1268"
      },
      "execution_count": 45,
      "outputs": [
        {
          "output_type": "stream",
          "name": "stdout",
          "text": [
            "Initial Balance:1000\n"
          ]
        }
      ]
    },
    {
      "cell_type": "markdown",
      "source": [
        "6. Demonstrate runtime polymorphism using a method play() in a base class instrument. Derive classes Guitar and Piano that implements their own version of play()."
      ],
      "metadata": {
        "id": "RWoXjTSD9cIt"
      }
    },
    {
      "cell_type": "code",
      "source": [
        "#base class instrument\n",
        "class Instrument:\n",
        "  def play(self):\n",
        "    print(\"Playing an instrument\")\n",
        "\n",
        "#derived class guitar\n",
        "\n",
        "class Guitar(Instrument):\n",
        "  def play(self):\n",
        "    print(\"Playing Guitar\")\n",
        "\n",
        "#derived class Piano\n",
        "\n",
        "class Piano(Instrument):\n",
        "  def play(self):\n",
        "    print(\"Playing Piano\")\n",
        "\n",
        "#demonstrate runtime poly-morphism\n",
        "\n",
        "def dem_poly():\n",
        "  instrument=Instrument()\n",
        "\n",
        "  #creating objects of different instrument types\n",
        "  instrument=Instrument()\n",
        "  guitar=Guitar()\n",
        "  piano=Piano()\n",
        "\n",
        "  #demonstrating runtime poly by calling play() on differnt objects\n",
        "\n",
        "  instruments=[instrument,guitar,piano]\n",
        "\n",
        "  for inst in instruments:\n",
        "    inst.play()\n",
        "\n",
        "dem_poly()"
      ],
      "metadata": {
        "colab": {
          "base_uri": "https://localhost:8080/"
        },
        "id": "oFYXnWhE93uS",
        "outputId": "122c703b-6b91-431e-b12b-5e95502ecfc9"
      },
      "execution_count": 46,
      "outputs": [
        {
          "output_type": "stream",
          "name": "stdout",
          "text": [
            "Playing an instrument\n",
            "Playing Guitar\n",
            "Playing Piano\n"
          ]
        }
      ]
    },
    {
      "cell_type": "code",
      "source": [],
      "metadata": {
        "id": "E5UrN9Kp_eed"
      },
      "execution_count": 46,
      "outputs": []
    },
    {
      "cell_type": "markdown",
      "source": [
        "7. Creating a class MathOperations with a class method add_numbers() to add two numbers and a static method subtract_numbers() to subtract two numbers."
      ],
      "metadata": {
        "id": "DY8VqemA_hKi"
      }
    },
    {
      "cell_type": "code",
      "source": [
        "class MathOperations:\n",
        "  #class method to add two numbers\n",
        "  @classmethod\n",
        "  def add_numbers(cls,num1,num2):\n",
        "    return num1 + num2\n",
        "\n",
        "   #static method to subtract two nums\n",
        "  @staticmethod\n",
        "  def subtract_numbers(num1,num2):\n",
        "    return num1 - num2\n",
        "\n",
        "#demonstrating the use of class method and static method\n",
        "\n",
        "def demo_math_opr():\n",
        "  sum_result=MathOperations.add_numbers(10,50)\n",
        "  print(f\"Sum:{sum_result}\")\n",
        "\n",
        "  diff_result=MathOperations.subtract_numbers(10,5)\n",
        "  print(f\"Difference:{diff_result}\")\n",
        "\n",
        "demo_math_opr()"
      ],
      "metadata": {
        "colab": {
          "base_uri": "https://localhost:8080/"
        },
        "id": "Tzft3flR_xhi",
        "outputId": "6b191d71-fb93-495c-f841-a847aa2768b0"
      },
      "execution_count": 47,
      "outputs": [
        {
          "output_type": "stream",
          "name": "stdout",
          "text": [
            "Sum:60\n",
            "Difference:5\n"
          ]
        }
      ]
    },
    {
      "cell_type": "markdown",
      "source": [
        "8. Implement a class Person with a class method to count the total number of persons created."
      ],
      "metadata": {
        "id": "F5FBqihqBN_S"
      }
    },
    {
      "source": [
        "class Person:\n",
        "\n",
        "  person_count=0\n",
        "\n",
        "  def __init__(self,name,age):\n",
        "    #variable instance\n",
        "\n",
        "    self.name=name\n",
        "    self.age=age\n",
        "\n",
        "    #increment the person count\n",
        "    Person.person_count += 1\n",
        "\n",
        "    #class method to get the total number of persons created\n",
        "\n",
        "  @classmethod\n",
        "  def get_person_count(cls):  # Changed the name to get_person_count\n",
        "    return cls.person_count # return the person_count using cls\n",
        "\n",
        "  @classmethod\n",
        "  def demo_person_count(cls):\n",
        "    #creating instances of Person\n",
        "    person1=Person(\"Rajat\",22)\n",
        "    person2=Person(\"Pankaj\",24)\n",
        "    person3=Person(\"Raman\",25)\n",
        "\n",
        "    print(f\"Total no. of person created: {cls.get_person_count()}\") # Call get_person_count using cls\n",
        "\n",
        "Person.demo_person_count()   # Call the class method using the class name"
      ],
      "cell_type": "code",
      "metadata": {
        "colab": {
          "base_uri": "https://localhost:8080/"
        },
        "id": "FLpyYj5BDFzZ",
        "outputId": "c05501bd-a3a0-4681-9004-eb5b3ce01aa3"
      },
      "execution_count": 48,
      "outputs": [
        {
          "output_type": "stream",
          "name": "stdout",
          "text": [
            "Total no. of person created: 3\n"
          ]
        }
      ]
    },
    {
      "cell_type": "markdown",
      "source": [
        "9. Write a class Fraction with attributes numerator and denominator. Override the str method to display the fraction as \"numerator/denominator\"."
      ],
      "metadata": {
        "id": "xy9_G3zdDKas"
      }
    },
    {
      "cell_type": "code",
      "source": [
        "class Fraction:\n",
        "  def __init__(self,numerator,denominator):\n",
        "    self.numerator=numerator\n",
        "    self.denominator=denominator\n",
        "\n",
        "  def __str__(self):\n",
        "    return f\"{self.numerator}/{self.denominator}\"\n",
        "\n",
        "def demo_fraction():\n",
        "\n",
        "  fraction1=Fraction(3,4)\n",
        "  fraction2=Fraction(5,8)\n",
        "\n",
        "  print(f\"Fraction 1:{fraction1}\")\n",
        "  print(f\"Fraction 2:{fraction2}\")\n",
        "\n",
        "demo_fraction()"
      ],
      "metadata": {
        "colab": {
          "base_uri": "https://localhost:8080/"
        },
        "id": "r-xw4ZF4CLZB",
        "outputId": "c66298ee-4688-4eac-d0d5-f2fcd6b14245"
      },
      "execution_count": 49,
      "outputs": [
        {
          "output_type": "stream",
          "name": "stdout",
          "text": [
            "Fraction 1:3/4\n",
            "Fraction 2:5/8\n"
          ]
        }
      ]
    },
    {
      "cell_type": "markdown",
      "source": [
        "10. Demonstrate operator overloading by creating a class Vector and Overriding the add method to add two vectors."
      ],
      "metadata": {
        "id": "3uxQd5dgExHj"
      }
    },
    {
      "source": [
        "class Vector:\n",
        "    def __init__(self, x, y):\n",
        "        self.x = x\n",
        "        self.y = y\n",
        "\n",
        "    # Overloading the \"+\" operator by overriding the __add__ method\n",
        "    # Corrected indentation for __add__ method\n",
        "    def __add__(self, other):\n",
        "        if isinstance(other, Vector):  # Check if 'other' is a Vector instance\n",
        "            return Vector(self.x + other.x, self.y + other.y)\n",
        "        else:\n",
        "            raise TypeError(\"Operands must be of type Vector\")\n",
        "\n",
        "    def __str__(self):\n",
        "        return f\"({self.x},{self.y})\"\n",
        "\n",
        "def demo_vector_add():\n",
        "    vector1 = Vector(3, 4)\n",
        "    vector2 = Vector(1, 2)\n",
        "\n",
        "    result_vector = vector1 + vector2\n",
        "\n",
        "    print(f\"Vector 1:{vector1}\")\n",
        "    print(f\"Vector 2:{vector2}\")\n",
        "    print(f\"Result Vector:{result_vector}\")\n",
        "\n",
        "demo_vector_add()"
      ],
      "cell_type": "code",
      "metadata": {
        "colab": {
          "base_uri": "https://localhost:8080/"
        },
        "id": "fXR2n2iMHjyv",
        "outputId": "5f9383b4-7d92-47f8-a27a-fec054edff04"
      },
      "execution_count": 50,
      "outputs": [
        {
          "output_type": "stream",
          "name": "stdout",
          "text": [
            "Vector 1:(3,4)\n",
            "Vector 2:(1,2)\n",
            "Result Vector:(4,6)\n"
          ]
        }
      ]
    },
    {
      "cell_type": "markdown",
      "source": [
        "11. Create  a class Person with attributes name and age. Adda method greet() that prints \"Hello my name is {self name}and I am {self age} old\"."
      ],
      "metadata": {
        "id": "BEgMeLb_HrNg"
      }
    },
    {
      "cell_type": "code",
      "source": [
        "class Person:\n",
        "  def __init__(self,name,age):\n",
        "    #initialize name and age attributes\n",
        "    self.name=name\n",
        "    self.age=age\n",
        "\n",
        "  def greet(self):\n",
        "     print(f\"Hello my name is {self.name} and I  am {self.age} years old.\")\n",
        "\n",
        "def demo_greeting():\n",
        "\n",
        "  person1=Person(\"Rajat\",21)\n",
        "  person1.greet()\n",
        "  person2=Person(\"Pankaj\",24)\n",
        "  person2.greet()\n",
        "\n",
        "demo_greeting()\n"
      ],
      "metadata": {
        "colab": {
          "base_uri": "https://localhost:8080/"
        },
        "id": "ZXQ-6Ow0G55W",
        "outputId": "cb0e7e49-3d21-4192-b4ff-cd8fda210261"
      },
      "execution_count": 51,
      "outputs": [
        {
          "output_type": "stream",
          "name": "stdout",
          "text": [
            "Hello my name is Rajat and I  am 21 years old.\n",
            "Hello my name is Pankaj and I  am 24 years old.\n"
          ]
        }
      ]
    },
    {
      "cell_type": "code",
      "source": [],
      "metadata": {
        "id": "9LxBdv1oJGHL"
      },
      "execution_count": 51,
      "outputs": []
    },
    {
      "cell_type": "markdown",
      "source": [
        "12. Implemement a class Student with attributes names and grades. Create a method average _grade() to compute the average of grades."
      ],
      "metadata": {
        "id": "3TVvhwyGJcx5"
      }
    },
    {
      "source": [
        "class Student:\n",
        "  def __init__(self,name,grades):\n",
        "    self.name=name\n",
        "    self.grades=grades\n",
        "\n",
        "  def avg_grade(self):\n",
        "\n",
        "    if len(self.grades)==0:\n",
        "      return 0\n",
        "    return sum(self.grades)/len(self.grades)\n",
        "\n",
        "def demo_student_avg():\n",
        "  student1 =Student(\"Rajat\",[85,90,72,92,81]) # Pass grades as a list\n",
        "\n",
        "  #calling the3 average grade methods\n",
        "  avg_grade=student1.avg_grade()\n",
        "\n",
        "  print(f\"Student:{student1.name}\")\n",
        "  print(f\"Average Grade:{avg_grade:.2f}\")\n",
        "\n",
        "demo_student_avg()"
      ],
      "cell_type": "code",
      "metadata": {
        "colab": {
          "base_uri": "https://localhost:8080/"
        },
        "id": "McFWRQyMKuki",
        "outputId": "8606e714-5a47-4597-9503-c237699d26ab"
      },
      "execution_count": 52,
      "outputs": [
        {
          "output_type": "stream",
          "name": "stdout",
          "text": [
            "Student:Rajat\n",
            "Average Grade:84.00\n"
          ]
        }
      ]
    },
    {
      "cell_type": "markdown",
      "source": [
        "13. Create a class Rectangle with methods set_dimensions() to set the dimension and area() to calculate the area."
      ],
      "metadata": {
        "id": "2ZuvB5ywKzla"
      }
    },
    {
      "cell_type": "code",
      "source": [
        "class Rectangle:\n",
        "    def __init__(self):\n",
        "        # Initialize length and width attributes\n",
        "        self.length = 0\n",
        "        self.width = 0\n",
        "\n",
        "    # Method to set the dimensions (length and width)\n",
        "    def set_dimensions(self, length, width):\n",
        "        self.length = length\n",
        "        self.width = width\n",
        "\n",
        "    # Method to calculate the area of the rectangle\n",
        "    def area(self):\n",
        "        return self.length * self.width\n",
        "\n",
        "# Demonstrating the use of the Rectangle class\n",
        "def demonstrate_rectangle_area():\n",
        "    # Creating a Rectangle object\n",
        "    rectangle = Rectangle()\n",
        "\n",
        "    # Setting the dimensions of the rectangle (length and width)\n",
        "    rectangle.set_dimensions(5, 3)\n",
        "\n",
        "    # Calculating and printing the area of the rectangle\n",
        "    print(f\"Area of the rectangle: {rectangle.area()}\")\n",
        "\n",
        "# Run the demonstration\n",
        "demonstrate_rectangle_area()\n",
        "\n"
      ],
      "metadata": {
        "colab": {
          "base_uri": "https://localhost:8080/"
        },
        "id": "iNflH2hDKMR1",
        "outputId": "4ee3163f-53aa-421e-ed21-609012f753d4"
      },
      "execution_count": 53,
      "outputs": [
        {
          "output_type": "stream",
          "name": "stdout",
          "text": [
            "Area of the rectangle: 15\n"
          ]
        }
      ]
    },
    {
      "cell_type": "markdown",
      "source": [
        "14. Create a Class Employee with method calculate_salary() that computes bthe salary based on hours worked and hourly rate. Create a derived class Manger that adds a bonus to the salary."
      ],
      "metadata": {
        "id": "o1NK96zqLgnU"
      }
    },
    {
      "cell_type": "code",
      "source": [
        "class Employee:\n",
        "  def __init__(self,name,hours_worked,hourly_rate):\n",
        "    self.name=name\n",
        "    self.hours_worked=hours_worked\n",
        "    self.hourly_rate=hourly_rate\n",
        "\n",
        "  def calculate_salary(self):\n",
        "    return self.hours_worked*self.hourly_rate\n",
        "\n",
        "class Manager(Employee):\n",
        "  def __init__(self,name ,hours_worked,hourly_rate,bonus):\n",
        "    super().__init__(name,hours_worked,hourly_rate)\n",
        "    self.bonus=bonus\n",
        "\n",
        "  def calculate_salary(self):\n",
        "    return super().calculate_salary()+self.bonus\n",
        "emp=Employee(\"Rajat\",40,15)\n",
        "manager=Manager(\"Pankaj\",40,20,500)\n",
        "\n",
        "print(f\"Employee's salary: ${emp.calculate_salary()}\")\n",
        "print(f\"Manager's salary: ${manager.calculate_salary()}\")"
      ],
      "metadata": {
        "colab": {
          "base_uri": "https://localhost:8080/"
        },
        "id": "2g_h2J4lMHr7",
        "outputId": "c5e7c5d1-6027-43bb-f79f-b686efe21029"
      },
      "execution_count": 54,
      "outputs": [
        {
          "output_type": "stream",
          "name": "stdout",
          "text": [
            "Employee's salary: $600\n",
            "Manager's salary: $1300\n"
          ]
        }
      ]
    },
    {
      "cell_type": "markdown",
      "source": [
        "15. Create a class product with attributes name , price and quantity. Implement a method total_price() that calculates the total price of the product."
      ],
      "metadata": {
        "id": "cIdQNyCrN8A7"
      }
    },
    {
      "cell_type": "code",
      "source": [
        "class Product:\n",
        "  def __init__(self,name,price,quantity):\n",
        "    self.name=name\n",
        "    self.price=price\n",
        "    self.quantity=quantity\n",
        "\n",
        "  def total_price(self):\n",
        "    return self.price * self.quantity\n",
        "\n",
        "product=Product(\"Laptop\",70000,3)\n",
        "print(f\"Total price for {product.quantity} {product.name}(s): ₹{product.total_price()}\")"
      ],
      "metadata": {
        "colab": {
          "base_uri": "https://localhost:8080/"
        },
        "id": "O1NXslYvNVH5",
        "outputId": "1d830b58-50d2-4931-d3f5-0f47152b36d1"
      },
      "execution_count": 55,
      "outputs": [
        {
          "output_type": "stream",
          "name": "stdout",
          "text": [
            "Total price for 3 Laptop(s): ₹210000\n"
          ]
        }
      ]
    },
    {
      "cell_type": "markdown",
      "source": [
        "16. Create  a class Animal with an abstract method sound(). Create two derived classes Cow and Sheep that implement the sound()"
      ],
      "metadata": {
        "id": "13hRBJnJYON3"
      }
    },
    {
      "cell_type": "code",
      "source": [
        "from abc import ABC, abstractmethod\n",
        "\n",
        "#abstract base calss Animal\n",
        "\n",
        "class Animal(ABC):\n",
        "  @abstractmethod\n",
        "  def sound(self):\n",
        "    pass\n",
        "\n",
        "#derived class Cow\n",
        "\n",
        "class Cow(Animal):\n",
        "  def sound(self):\n",
        "    return \"Moo\"\n",
        "\n",
        "#derived class Sheep\n",
        "class Sheep(Animal):\n",
        "  def sound(self):\n",
        "    return \"Baa\"\n",
        "\n",
        "    #test the classes\n",
        "cow=Cow()\n",
        "sheep=Sheep()\n",
        "\n",
        "print(f\"Cow says: {cow.sound()}\")\n",
        "print(f\"Sheep says: {sheep.sound()}\")"
      ],
      "metadata": {
        "colab": {
          "base_uri": "https://localhost:8080/"
        },
        "id": "90Yo8ettYkW3",
        "outputId": "34f14002-e248-49d4-cbe6-41b610131f58"
      },
      "execution_count": 56,
      "outputs": [
        {
          "output_type": "stream",
          "name": "stdout",
          "text": [
            "Cow says: Moo\n",
            "Sheep says: Baa\n"
          ]
        }
      ]
    },
    {
      "cell_type": "markdown",
      "source": [
        "17. Create a class Book with attributes title, author,and year_published. Add a method get_book_info() that returns a formatted string with the book's details."
      ],
      "metadata": {
        "id": "VKSN9Od4ZtmG"
      }
    },
    {
      "cell_type": "code",
      "source": [
        "class Book:\n",
        "  def __init__(self,title,author,year_published):\n",
        "    self.title=title\n",
        "    self.author=author\n",
        "    self.year_published=year_published\n",
        "\n",
        "  def get_book_info(self):\n",
        "    return f\"Title: {self.title}\\nAuthor: {self.author}\\nYear Published: {self.year_published} \"\n",
        "\n",
        "book1=Book(\"To Kill a Mockingbird\",\"Harper Lee\",1960)\n",
        "book2=Book(\"1984\",\"George Orwell\",1949)\n",
        "\n",
        "print(book1.get_book_info())\n",
        "print(\"\\n\"+\"-\"*30+\"\\n\")\n",
        "print(book2.get_book_info())"
      ],
      "metadata": {
        "colab": {
          "base_uri": "https://localhost:8080/"
        },
        "id": "68R5SWctZrDx",
        "outputId": "cb2de047-7c04-4dd2-9752-08d973a383d5"
      },
      "execution_count": 58,
      "outputs": [
        {
          "output_type": "stream",
          "name": "stdout",
          "text": [
            "Title: To Kill a Mockingbird\n",
            "Author: Harper Lee\n",
            "Year Published: 1960 \n",
            "\n",
            "------------------------------\n",
            "\n",
            "Title: 1984\n",
            "Author: George Orwell\n",
            "Year Published: 1949 \n"
          ]
        }
      ]
    },
    {
      "cell_type": "markdown",
      "source": [
        "18. Create a class House with attributes address and price. Create a derived class Mansion that adds an attribute number_of_rooms."
      ],
      "metadata": {
        "id": "HNycv3NIbsaP"
      }
    },
    {
      "cell_type": "code",
      "source": [
        "#base class House\n",
        "class House:\n",
        "  def __init__(self,address,price):\n",
        "    self.address=address\n",
        "    self.price=price\n",
        "\n",
        "  def get_house_info(self):\n",
        "    return f\"Address: {self.address}\\nPrice: ₹{self.price}\"\n",
        "\n",
        "#derived class Mansion\n",
        "\n",
        "class Mansion(House):\n",
        "  def __init__(self,address,price,number_of_rooms):\n",
        "    super().__init__(address,price)\n",
        "    self.number_of_rooms=number_of_rooms\n",
        "\n",
        "  def get_mansion_info(self):\n",
        "    return f\"{self.get_house_info()}\\nNumber of Rooms:{self.number_of_rooms}\"\n",
        "\n",
        "house=House(\"123 Main St, Springfield\",250000)\n",
        "mansion=Mansion(\"456 Luxury Apt.,Beverly  Hills\",500000,12)\n",
        "\n",
        "print(house.get_house_info())\n",
        "print(\"\\n\"+\"-\"*30+\"\\n\")\n",
        "print(mansion.get_mansion_info())"
      ],
      "metadata": {
        "colab": {
          "base_uri": "https://localhost:8080/"
        },
        "id": "xLA436AQb7L-",
        "outputId": "72e2cecd-7cad-4c52-892b-4018d2cc5ac4"
      },
      "execution_count": 61,
      "outputs": [
        {
          "output_type": "stream",
          "name": "stdout",
          "text": [
            "Address: 123 Main St, Springfield\n",
            "Price: ₹250000\n",
            "\n",
            "------------------------------\n",
            "\n",
            "Address: 456 Luxury Apt.,Beverly  Hills\n",
            "Price: ₹500000\n",
            "Number of Rooms:12\n"
          ]
        }
      ]
    },
    {
      "cell_type": "code",
      "source": [],
      "metadata": {
        "id": "UmjbXYDnd1s2"
      },
      "execution_count": null,
      "outputs": []
    }
  ]
}